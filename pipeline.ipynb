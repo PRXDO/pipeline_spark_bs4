{
 "cells": [
  {
   "cell_type": "markdown",
   "id": "7b060816",
   "metadata": {},
   "source": [
    "sempre que adicionar ou mudar uma dependencia, usar pip freeze > requirements.txt\n"
   ]
  },
  {
   "cell_type": "code",
   "execution_count": null,
   "id": "c57a783a",
   "metadata": {},
   "outputs": [],
   "source": [
    "from bs4 import BeautifulSoup\n",
    "import pandas as pd\n",
    "from pyspark.sql import SparkSession\n",
    "from pyspark.sql.types import StructType, StructField, StringType, IntegerType\n",
    "import requests\n",
    "import re"
   ]
  },
  {
   "cell_type": "code",
   "execution_count": null,
   "id": "0b526bd8",
   "metadata": {},
   "outputs": [],
   "source": [
    "dadosAcumulados = [] # lista para armazenar os dados acumulados\n",
    "\n",
    "page = 1 # variavel para controlar a paginação\n",
    "i = 1\n",
    "\n",
    "while True: \n",
    "\n",
    "    url = f'https://books.toscrape.com/catalogue/page-{page}.html'\n",
    "\n",
    "    # resposta com o conteudo da pagina\n",
    "    response = requests.get(url) \n",
    "    \n",
    "    # verifica se a resposta é diferente de 200, se for, sai do loop\n",
    "    if response.status_code != 200: \n",
    "        break\n",
    "\n",
    "    result = response.text \n",
    "\n",
    "    soup = BeautifulSoup(result, 'lxml')\n",
    "    \n",
    "    # busca diretamenta todas as tags li que estão dentro de uma tag ol com a classe row\n",
    "    for item in soup.select('ol.row li'): \n",
    "        \n",
    "\n",
    "        # busca tags a que tenham o atributo title\n",
    "        title_aux = item.find(\"a\", attrs={\"title\":True}) \n",
    "        # extrair o texto que está dentro do atributo title de cada tag a encontrada \n",
    "        title = title_aux.get('title') \n",
    "\n",
    "        # busca tags p que tenham a classe star-rating\n",
    "        star_aux = item.find(\"p\", class_=\"star-rating\")\n",
    "        # extrair o texto que está dentro do atributo class na posicao 1 de cada tag p encontrada(é a informação que tem a avaliação do livro) \n",
    "        star = star_aux.get('class')[1]\n",
    "\n",
    "        # busca tags p que tenham a classe price_color\n",
    "        price_aux = item.find(\"p\", class_=\"price_color\")\n",
    "        # extrair o texto que está dentro de cada tag p encontrada \n",
    "        price = price_aux.getText()\n",
    "\n",
    "        # busca tags p que tenham a classe instock availability\n",
    "        availability_aux = item.find(\"p\", class_=\"instock availability\")\n",
    "        # extrair o texto que está dentro de cada tag p encontrada\n",
    "        availability = availability_aux.getText()\n",
    "\n",
    "        # Passa todas as informações encontradas como um dicionario para a varivavel dadosAcumulados, contruindo uma lista de dicionarios\n",
    "        dadosAcumulados.append({'title':title, 'rating':star, 'price':price, 'availability':availability})\n",
    "\n",
    "        i = i + 1\n",
    "        print(\"loop for: \",i)\n",
    "\n",
    "    page = page + 1 \n",
    "\n",
    "    print(\"pagina: \",page)\n"
   ]
  },
  {
   "cell_type": "code",
   "execution_count": null,
   "id": "fc679c09",
   "metadata": {},
   "outputs": [],
   "source": [
    "for item in dadosAcumulados:\n",
    "    print(item)\n"
   ]
  },
  {
   "cell_type": "code",
   "execution_count": 7,
   "id": "438cbcf1",
   "metadata": {},
   "outputs": [],
   "source": [
    "# Para cada item dentro da lista dadosAcumulados, crie um novo dicionário com apenas duas informações: title e stars.\n",
    "starTable = [{\"title\": item[\"title\"], \"stars\": item[\"rating\"]} for item in dadosAcumulados]\n",
    "priceTable = [{\"title\": item[\"title\"], \"price\": item[\"price\"]} for item in dadosAcumulados]\n",
    "availabilityTable = [{\"title\": item[\"title\"], \"disponibility\": item[\"availability\"]} for item in dadosAcumulados]\n",
    "\n",
    "#print(starTable)\n"
   ]
  },
  {
   "cell_type": "code",
   "execution_count": null,
   "id": "5cd95cf4",
   "metadata": {},
   "outputs": [
    {
     "name": "stdout",
     "output_type": "stream",
     "text": [
      "                                   title  stars\n",
      "0                   A Light in the Attic  Three\n",
      "1                     Tipping the Velvet    One\n",
      "2                             Soumission    One\n",
      "3                          Sharp Objects   Four\n",
      "4  Sapiens: A Brief History of Humankind   Five\n"
     ]
    }
   ],
   "source": [
    "starDF = pd.DataFrame(starTable)\n",
    "priceDF = pd.DataFrame(priceTable)\n",
    "availabilityDF = pd.DataFrame(availabilityTable)\n",
    "\n"
   ]
  },
  {
   "cell_type": "code",
   "execution_count": null,
   "id": "4f7f67ec",
   "metadata": {},
   "outputs": [],
   "source": [
    "# Inicializar a SparkSession\n",
    "spark = SparkSession.builder \\\n",
    "    .appName(\"Exemplo Simples de Tabela\") \\\n",
    "    .getOrCreate()\n",
    "\n",
    "# Definir o schema da tabela\n",
    "schema = StructType([\n",
    "    StructField(\"id\", IntegerType(), nullable=False),\n",
    "    StructField(\"nome\", StringType(), nullable=True),\n",
    "    StructField(\"idade\", IntegerType(), nullable=True),\n",
    "    StructField(\"cidade\", StringType(), nullable=True)\n",
    "])\n",
    "\n",
    "# Dados de exemplo\n",
    "data = [\n",
    "    (1, \"João Silva\", 28, \"São Paulo\"),\n",
    "    (2, \"Maria Souza\", 34, \"Rio de Janeiro\"),\n",
    "    (3, \"Carlos Oliveira\", 22, \"Belo Horizonte\"),\n",
    "    (4, \"Ana Santos\", 45, \"Curitiba\")\n",
    "]\n",
    "\n",
    "# Criar DataFrame\n",
    "df = spark.createDataFrame(data, schema=schema)\n",
    "\n",
    "# Mostrar a tabela\n",
    "print(\"Mostrando a tabela completa:\")\n",
    "df.show()\n",
    "\n",
    "# Mostrar a tabela com formatação\n",
    "print(\"\\nMostrando a tabela com formatação:\")\n",
    "df.show(truncate=False)\n",
    "\n",
    "# Mostrar o schema da tabela\n",
    "print(\"\\nSchema da tabela:\")\n",
    "df.printSchema()\n",
    "\n",
    "spark.stop()"
   ]
  },
  {
   "cell_type": "code",
   "execution_count": null,
   "id": "49a06447",
   "metadata": {},
   "outputs": [],
   "source": [
    "from pyspark.sql import SparkSession\n",
    "from pyspark.sql.types import StructType, StructField, StringType, IntegerType, DoubleType\n",
    "\n",
    "# Criar SparkSession\n",
    "spark = SparkSession.builder.appName(\"EmptyDF\").getOrCreate()\n",
    "\n",
    "# 1. Criar DataFrame vazio com schema definido\n",
    "schema = StructType([])  # Schema vazio\n",
    "df = spark.createDataFrame([], schema)\n",
    "\n",
    "# 2. Adicionar colunas uma a uma\n",
    "from pyspark.sql.functions import lit\n",
    "\n",
    "# Adicionar coluna de strings\n",
    "df = df.withColumn(\"nome\", lit(None).cast(StringType()))\n",
    "\n",
    "# Adicionar coluna de inteiros\n",
    "df = df.withColumn(\"idade\", lit(None).cast(IntegerType()))\n",
    "\n",
    "# Adicionar coluna de doubles com valor padrão 0.0\n",
    "df = df.withColumn(\"salario\", lit(0.0).cast(DoubleType()))\n",
    "\n",
    "df.printSchema()\n",
    "df.show()"
   ]
  }
 ],
 "metadata": {
  "kernelspec": {
   "display_name": "venv",
   "language": "python",
   "name": "python3"
  },
  "language_info": {
   "codemirror_mode": {
    "name": "ipython",
    "version": 3
   },
   "file_extension": ".py",
   "mimetype": "text/x-python",
   "name": "python",
   "nbconvert_exporter": "python",
   "pygments_lexer": "ipython3",
   "version": "3.11.9"
  }
 },
 "nbformat": 4,
 "nbformat_minor": 5
}
