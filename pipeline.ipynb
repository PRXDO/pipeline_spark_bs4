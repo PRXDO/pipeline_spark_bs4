{
 "cells": [
  {
   "cell_type": "code",
   "execution_count": 1,
   "id": "4f7f67ec",
   "metadata": {},
   "outputs": [
    {
     "name": "stdout",
     "output_type": "stream",
     "text": [
      "Mostrando a tabela completa:\n",
      "+---+---------------+-----+--------------+\n",
      "| id|           nome|idade|        cidade|\n",
      "+---+---------------+-----+--------------+\n",
      "|  1|     João Silva|   28|     São Paulo|\n",
      "|  2|    Maria Souza|   34|Rio de Janeiro|\n",
      "|  3|Carlos Oliveira|   22|Belo Horizonte|\n",
      "|  4|     Ana Santos|   45|      Curitiba|\n",
      "+---+---------------+-----+--------------+\n",
      "\n",
      "\n",
      "Mostrando a tabela com formatação:\n",
      "+---+---------------+-----+--------------+\n",
      "|id |nome           |idade|cidade        |\n",
      "+---+---------------+-----+--------------+\n",
      "|1  |João Silva     |28   |São Paulo     |\n",
      "|2  |Maria Souza    |34   |Rio de Janeiro|\n",
      "|3  |Carlos Oliveira|22   |Belo Horizonte|\n",
      "|4  |Ana Santos     |45   |Curitiba      |\n",
      "+---+---------------+-----+--------------+\n",
      "\n",
      "\n",
      "Schema da tabela:\n",
      "root\n",
      " |-- id: integer (nullable = false)\n",
      " |-- nome: string (nullable = true)\n",
      " |-- idade: integer (nullable = true)\n",
      " |-- cidade: string (nullable = true)\n",
      "\n"
     ]
    }
   ],
   "source": [
    "from pyspark.sql import SparkSession\n",
    "from pyspark.sql.types import StructType, StructField, StringType, IntegerType\n",
    "\n",
    "# Inicializar a SparkSession\n",
    "spark = SparkSession.builder \\\n",
    "    .appName(\"Exemplo Simples de Tabela\") \\\n",
    "    .getOrCreate()\n",
    "\n",
    "# Definir o schema da tabela\n",
    "schema = StructType([\n",
    "    StructField(\"id\", IntegerType(), nullable=False),\n",
    "    StructField(\"nome\", StringType(), nullable=True),\n",
    "    StructField(\"idade\", IntegerType(), nullable=True),\n",
    "    StructField(\"cidade\", StringType(), nullable=True)\n",
    "])\n",
    "\n",
    "# Dados de exemplo\n",
    "data = [\n",
    "    (1, \"João Silva\", 28, \"São Paulo\"),\n",
    "    (2, \"Maria Souza\", 34, \"Rio de Janeiro\"),\n",
    "    (3, \"Carlos Oliveira\", 22, \"Belo Horizonte\"),\n",
    "    (4, \"Ana Santos\", 45, \"Curitiba\")\n",
    "]\n",
    "\n",
    "# Criar DataFrame\n",
    "df = spark.createDataFrame(data, schema=schema)\n",
    "\n",
    "# Mostrar a tabela\n",
    "print(\"Mostrando a tabela completa:\")\n",
    "df.show()\n",
    "\n",
    "# Mostrar a tabela com formatação\n",
    "print(\"\\nMostrando a tabela com formatação:\")\n",
    "df.show(truncate=False)\n",
    "\n",
    "# Mostrar o schema da tabela\n",
    "print(\"\\nSchema da tabela:\")\n",
    "df.printSchema()"
   ]
  }
 ],
 "metadata": {
  "kernelspec": {
   "display_name": "venv",
   "language": "python",
   "name": "python3"
  },
  "language_info": {
   "codemirror_mode": {
    "name": "ipython",
    "version": 3
   },
   "file_extension": ".py",
   "mimetype": "text/x-python",
   "name": "python",
   "nbconvert_exporter": "python",
   "pygments_lexer": "ipython3",
   "version": "3.11.9"
  }
 },
 "nbformat": 4,
 "nbformat_minor": 5
}
