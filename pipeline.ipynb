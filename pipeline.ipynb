{
 "cells": [
  {
   "cell_type": "markdown",
   "id": "7b060816",
   "metadata": {},
   "source": [
    "sempre que adicionar ou mudar uma dependencia, usar pip freeze > requirements.txt( usar dentro da venv)\n"
   ]
  },
  {
   "cell_type": "code",
   "execution_count": null,
   "id": "c57a783a",
   "metadata": {},
   "outputs": [],
   "source": [
    "from bs4 import BeautifulSoup\n",
    "import pandas as pd\n",
    "from pyspark.sql import SparkSession\n",
    "from pyspark.sql.types import StructType, StructField, StringType, IntegerType\n",
    "import requests\n",
    "import re\n",
    "import pyarrow.parquet as pq"
   ]
  },
  {
   "cell_type": "code",
   "execution_count": null,
   "id": "0b526bd8",
   "metadata": {},
   "outputs": [],
   "source": [
    "dadosAcumulados = [] # lista para armazenar os dados acumulados\n",
    "\n",
    "page = 1 # variavel para controlar a paginação\n",
    "i = 1\n",
    "\n",
    "while True: \n",
    "\n",
    "    url = f'https://books.toscrape.com/catalogue/page-{page}.html'\n",
    "\n",
    "    # resposta com o conteudo da pagina\n",
    "    response = requests.get(url) \n",
    "    \n",
    "    # verifica se a resposta é diferente de 200, se for, sai do loop\n",
    "    if response.status_code != 200: \n",
    "        break\n",
    "\n",
    "    result = response.text \n",
    "\n",
    "    soup = BeautifulSoup(result, 'lxml')\n",
    "    \n",
    "    # busca diretamenta todas as tags li que estão dentro de uma tag ol com a classe row\n",
    "    for item in soup.select('ol.row li'): \n",
    "        \n",
    "\n",
    "        # busca tags a que tenham o atributo title\n",
    "        title_aux = item.find(\"a\", attrs={\"title\":True}) \n",
    "        # extrair o texto que está dentro do atributo title de cada tag a encontrada \n",
    "        title = title_aux.get('title') \n",
    "\n",
    "        # busca tags p que tenham a classe star-rating\n",
    "        star_aux = item.find(\"p\", class_=\"star-rating\")\n",
    "        # extrair o texto que está dentro do atributo class na posicao 1 de cada tag p encontrada(é a informação que tem a avaliação do livro) \n",
    "        star = star_aux.get('class')[1]\n",
    "\n",
    "        # busca tags p que tenham a classe price_color\n",
    "        price_aux = item.find(\"p\", class_=\"price_color\")\n",
    "        # extrair o texto que está dentro de cada tag p encontrada \n",
    "        price = price_aux.getText()\n",
    "\n",
    "        # busca tags p que tenham a classe instock availability\n",
    "        availability_aux = item.find(\"p\", class_=\"instock availability\")\n",
    "        # extrair o texto que está dentro de cada tag p encontrada\n",
    "        availability = availability_aux.getText()\n",
    "\n",
    "        # Passa todas as informações encontradas como um dicionario para a varivavel dadosAcumulados, contruindo uma lista de dicionarios\n",
    "        dadosAcumulados.append({'title':title, 'rating':star, 'price':price, 'availability':availability})\n",
    "\n",
    "        i = i + 1\n",
    "        print(\"loop for: \",i)\n",
    "\n",
    "    page = page + 1 \n",
    "\n",
    "    print(\"pagina: \",page)\n"
   ]
  },
  {
   "cell_type": "code",
   "execution_count": null,
   "id": "438cbcf1",
   "metadata": {},
   "outputs": [],
   "source": [
    "# Para cada item dentro da lista dadosAcumulados, crie um novo dicionário com apenas duas informações\n",
    "starTable = [{\"title\": item[\"title\"], \"stars\": item[\"rating\"]} for item in dadosAcumulados]\n",
    "priceTable = [{\"title\": item[\"title\"], \"price\": item[\"price\"]} for item in dadosAcumulados]\n",
    "availabilityTable = [{\"title\": item[\"title\"], \"disponibility\": item[\"availability\"]} for item in dadosAcumulados]"
   ]
  },
  {
   "cell_type": "code",
   "execution_count": null,
   "id": "5cd95cf4",
   "metadata": {},
   "outputs": [],
   "source": [
    "# criar um dataframe com os dados acumulados\n",
    "starDF = pd.DataFrame(starTable)\n",
    "priceDF = pd.DataFrame(priceTable)\n",
    "availabilityDF = pd.DataFrame(availabilityTable)"
   ]
  },
  {
   "cell_type": "code",
   "execution_count": 41,
   "id": "b770efb0",
   "metadata": {},
   "outputs": [],
   "source": [
    "# starDF.to_parquet(\"BD/BRONZE/starDF.parquet\", engine=\"pyarrow\", compression=\"snappy\", partition_cols=[\"stars\"])\n",
    "starDF.to_parquet(\"BD/BRONZE/starDF.parquet\", engine=\"pyarrow\", compression=\"snappy\")\n",
    "priceDF.to_parquet(\"BD/BRONZE/priceDF.parquet\", engine=\"pyarrow\", compression=\"snappy\")\n",
    "availabilityDF.to_parquet(\"BD/BRONZE/availabilityDF.parquet\", engine=\"pyarrow\", compression=\"snappy\")"
   ]
  },
  {
   "cell_type": "code",
   "execution_count": 43,
   "id": "a7663249",
   "metadata": {},
   "outputs": [
    {
     "name": "stdout",
     "output_type": "stream",
     "text": [
      "{b'table': b'star_table', b'description': b'table containing the titles and ratings of extracted books', b'columns': b'title: string, stars: string', b'created': b'26/05/2025', b'data origin': b'https://books.toscrape.com/catalogue/category/books_1/page-1.html'}\n"
     ]
    }
   ],
   "source": [
    "# Lê o arquivo parquet\n",
    "table = pq.read_table('BD/BRONZE/starDF.parquet')\n",
    "\n",
    "# Acessar metadados\n",
    "metadata = table.schema.metadata\n",
    "print(metadata)  # Mostra os metadados atuais\n",
    "\n",
    "# Adicionar/alterar metadados\n",
    "new_metadata = {b'table': b'star_table',\n",
    "                b'description': b'table containing the titles and ratings of extracted books', \n",
    "                b'columns': b'title: string, stars: string',\n",
    "                b'created': b'26/05/2025',\n",
    "                b'data origin': b'https://books.toscrape.com/catalogue/category/books_1/page-1.html',}\n",
    "table = table.replace_schema_metadata(new_metadata)\n",
    "\n",
    "# Chama o modulo do pyarrow parquet para sobreescrever o arquivo com os novos metadados\n",
    "pq.write_table(table, 'BD/BRONZE/starDF.parquet')"
   ]
  },
  {
   "cell_type": "code",
   "execution_count": 45,
   "id": "ccb16ddd",
   "metadata": {},
   "outputs": [
    {
     "name": "stdout",
     "output_type": "stream",
     "text": [
      "{b'table': b'price_table', b'description': b'table containing the titles and prices of extracted books', b'columns': b'title: string, price: string', b'created': b'26/05/2025', b'data origin': b'https://books.toscrape.com/catalogue/category/books_1/page-1.html'}\n"
     ]
    }
   ],
   "source": [
    "# Lê o arquivo parquet\n",
    "table = pq.read_table('BD/BRONZE/priceDF.parquet')\n",
    "\n",
    "# Acessar metadados\n",
    "metadata = table.schema.metadata\n",
    "print(metadata)  # Mostra os metadados atuais\n",
    "\n",
    "# Adicionar/alterar metadados\n",
    "new_metadata = {b'table': b'price_table',\n",
    "                b'description': b'table containing the titles and prices of extracted books', \n",
    "                b'columns': b'title: string, price: string',\n",
    "                b'created': b'26/05/2025',\n",
    "                b'data origin': b'https://books.toscrape.com/catalogue/category/books_1/page-1.html',}\n",
    "table = table.replace_schema_metadata(new_metadata)\n",
    "\n",
    "# Chama o modulo do pyarrow parquet para sobreescrever o arquivo com os novos metadados\n",
    "pq.write_table(table, 'BD/BRONZE/priceDF.parquet')"
   ]
  },
  {
   "cell_type": "code",
   "execution_count": 47,
   "id": "12ee8b1d",
   "metadata": {},
   "outputs": [
    {
     "name": "stdout",
     "output_type": "stream",
     "text": [
      "{b'table': b'availability_table', b'description': b'table containing the titles and availability of extracted books', b'columns': b'title: string, disponibility: string', b'created': b'26/05/2025', b'data origin': b'https://books.toscrape.com/catalogue/category/books_1/page-1.html'}\n"
     ]
    }
   ],
   "source": [
    "# Lê o arquivo parquet\n",
    "table = pq.read_table('BD/BRONZE/availabilityDF.parquet')\n",
    "\n",
    "# Acessar metadados\n",
    "metadata = table.schema.metadata\n",
    "print(metadata)  # Mostra os metadados atuais\n",
    "\n",
    "# Adicionar/alterar metadados\n",
    "new_metadata = {b'table': b'availability_table',\n",
    "                b'description': b'table containing the titles and availability of extracted books', \n",
    "                b'columns': b'title: string, disponibility: string',\n",
    "                b'created': b'26/05/2025',\n",
    "                b'data origin': b'https://books.toscrape.com/catalogue/category/books_1/page-1.html',}\n",
    "table = table.replace_schema_metadata(new_metadata)\n",
    "\n",
    "# Chama o modulo do pyarrow parquet para sobreescrever o arquivo com os novos metadados\n",
    "pq.write_table(table, 'BD/BRONZE/availabilityDF.parquet')"
   ]
  },
  {
   "cell_type": "code",
   "execution_count": null,
   "id": "b41c7eff",
   "metadata": {},
   "outputs": [],
   "source": []
  },
  {
   "cell_type": "code",
   "execution_count": null,
   "id": "4f7f67ec",
   "metadata": {},
   "outputs": [
    {
     "name": "stdout",
     "output_type": "stream",
     "text": [
      "+----------------------------------------------------------------------------------------------+----------------------------------+\n",
      "|title                                                                                         |disponibility                     |\n",
      "+----------------------------------------------------------------------------------------------+----------------------------------+\n",
      "|A Light in the Attic                                                                          |\\n\\n    \\n        In stock\\n    \\n|\n",
      "|Tipping the Velvet                                                                            |\\n\\n    \\n        In stock\\n    \\n|\n",
      "|Soumission                                                                                    |\\n\\n    \\n        In stock\\n    \\n|\n",
      "|Sharp Objects                                                                                 |\\n\\n    \\n        In stock\\n    \\n|\n",
      "|Sapiens: A Brief History of Humankind                                                         |\\n\\n    \\n        In stock\\n    \\n|\n",
      "|The Requiem Red                                                                               |\\n\\n    \\n        In stock\\n    \\n|\n",
      "|The Dirty Little Secrets of Getting Your Dream Job                                            |\\n\\n    \\n        In stock\\n    \\n|\n",
      "|The Coming Woman: A Novel Based on the Life of the Infamous Feminist, Victoria Woodhull       |\\n\\n    \\n        In stock\\n    \\n|\n",
      "|The Boys in the Boat: Nine Americans and Their Epic Quest for Gold at the 1936 Berlin Olympics|\\n\\n    \\n        In stock\\n    \\n|\n",
      "|The Black Maria                                                                               |\\n\\n    \\n        In stock\\n    \\n|\n",
      "|Starving Hearts (Triangular Trade Trilogy, #1)                                                |\\n\\n    \\n        In stock\\n    \\n|\n",
      "|Shakespeare's Sonnets                                                                         |\\n\\n    \\n        In stock\\n    \\n|\n",
      "|Set Me Free                                                                                   |\\n\\n    \\n        In stock\\n    \\n|\n",
      "|Scott Pilgrim's Precious Little Life (Scott Pilgrim #1)                                       |\\n\\n    \\n        In stock\\n    \\n|\n",
      "|Rip it Up and Start Again                                                                     |\\n\\n    \\n        In stock\\n    \\n|\n",
      "|Our Band Could Be Your Life: Scenes from the American Indie Underground, 1981-1991            |\\n\\n    \\n        In stock\\n    \\n|\n",
      "|Olio                                                                                          |\\n\\n    \\n        In stock\\n    \\n|\n",
      "|Mesaerion: The Best Science Fiction Stories 1800-1849                                         |\\n\\n    \\n        In stock\\n    \\n|\n",
      "|Libertarianism for Beginners                                                                  |\\n\\n    \\n        In stock\\n    \\n|\n",
      "|It's Only the Himalayas                                                                       |\\n\\n    \\n        In stock\\n    \\n|\n",
      "+----------------------------------------------------------------------------------------------+----------------------------------+\n",
      "only showing top 20 rows\n",
      "\n"
     ]
    }
   ],
   "source": [
    "# Inicializar a SparkSession\n",
    "\n",
    "spark = SparkSession.builder \\\n",
    "    .appName(\"DataPipe\") \\\n",
    "    .master(\"local[*]\") \\\n",
    "    .getOrCreate()\n",
    "\n",
    "df = spark.read.parquet(\"BD/BRONZE/availabilityDF.parquet\")\n",
    "\n",
    "df.show(truncate=False)\n",
    "\n",
    "\n",
    "spark.stop()\n",
    "\n"
   ]
  },
  {
   "cell_type": "code",
   "execution_count": null,
   "id": "49a06447",
   "metadata": {},
   "outputs": [],
   "source": [
    "from pyspark.sql import SparkSession\n",
    "from pyspark.sql.types import StructType, StructField, StringType, IntegerType, DoubleType\n",
    "\n",
    "# Criar SparkSession\n",
    "spark = SparkSession.builder.appName(\"EmptyDF\").getOrCreate()\n",
    "\n",
    "# 1. Criar DataFrame vazio com schema definido\n",
    "schema = StructType([])  # Schema vazio\n",
    "df = spark.createDataFrame([], schema)\n",
    "\n",
    "# 2. Adicionar colunas uma a uma\n",
    "from pyspark.sql.functions import lit\n",
    "\n",
    "# Adicionar coluna de strings\n",
    "df = df.withColumn(\"nome\", lit(None).cast(StringType()))\n",
    "\n",
    "# Adicionar coluna de inteiros\n",
    "df = df.withColumn(\"idade\", lit(None).cast(IntegerType()))\n",
    "\n",
    "# Adicionar coluna de doubles com valor padrão 0.0\n",
    "df = df.withColumn(\"salario\", lit(0.0).cast(DoubleType()))\n",
    "\n",
    "df.printSchema()\n",
    "df.show()"
   ]
  }
 ],
 "metadata": {
  "kernelspec": {
   "display_name": "venv",
   "language": "python",
   "name": "python3"
  },
  "language_info": {
   "codemirror_mode": {
    "name": "ipython",
    "version": 3
   },
   "file_extension": ".py",
   "mimetype": "text/x-python",
   "name": "python",
   "nbconvert_exporter": "python",
   "pygments_lexer": "ipython3",
   "version": "3.11.9"
  }
 },
 "nbformat": 4,
 "nbformat_minor": 5
}
